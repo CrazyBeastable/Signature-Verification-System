{
 "cells": [
  {
   "cell_type": "code",
   "execution_count": 2,
   "metadata": {},
   "outputs": [],
   "source": [
    "import os\n",
    "import cv2\n",
    "import numpy as np\n",
    "from sklearn.model_selection import train_test_split\n",
    "from sklearn.preprocessing import LabelEncoder\n",
    "\n",
    "# Paths to the folders\n",
    "org_folder = './data/full_org/'\n",
    "forg_folder = './data/full_forg/'\n",
    "\n",
    "# Lists to hold images, labels, and person IDs\n",
    "images = []\n",
    "labels = []\n",
    "person_ids = []\n",
    "\n",
    "# Function to extract person ID from filename\n",
    "def get_person_id(filename):\n",
    "    return int(filename.split('_')[1])\n",
    "\n",
    "# Load original signatures\n",
    "for filename in os.listdir(org_folder):\n",
    "    img = cv2.imread(os.path.join(org_folder, filename), cv2.IMREAD_GRAYSCALE)\n",
    "    if img is not None:\n",
    "        img = cv2.resize(img, (128, 128))\n",
    "        images.append(img)\n",
    "        labels.append(1)  # Genuine label\n",
    "        person_ids.append(get_person_id(filename))\n",
    "\n",
    "# Load forged signatures\n",
    "for filename in os.listdir(forg_folder):\n",
    "    img = cv2.imread(os.path.join(forg_folder, filename), cv2.IMREAD_GRAYSCALE)\n",
    "    if img is not None:\n",
    "        img = cv2.resize(img, (128, 128))\n",
    "        images.append(img)\n",
    "        labels.append(0)  # Forged label\n",
    "        person_ids.append(get_person_id(filename))\n",
    "\n",
    "# Convert lists to numpy arrays\n",
    "images = np.array(images)\n",
    "labels = np.array(labels)\n",
    "person_ids = np.array(person_ids)\n",
    "\n",
    "# Normalize images\n",
    "images = images / 255.0\n",
    "\n",
    "# Encode person IDs to start from 0\n",
    "le = LabelEncoder()\n",
    "person_ids_encoded = le.fit_transform(person_ids)\n",
    "\n",
    "# Split the data for both models\n",
    "X_train, X_test, y_train, y_test, person_train, person_test = train_test_split(images, labels, person_ids_encoded, test_size=0.2, random_state=42)\n",
    "\n"
   ]
  },
  {
   "cell_type": "code",
   "execution_count": 4,
   "metadata": {},
   "outputs": [],
   "source": [
    "from skimage.feature import hog\n",
    "\n",
    "def extract_hog_features(images):\n",
    "    hog_features = []\n",
    "    for img in images:\n",
    "        features = hog(img, orientations=8, pixels_per_cell=(16, 16), cells_per_block=(1, 1))\n",
    "        hog_features.append(features)\n",
    "    return np.array(hog_features)\n",
    "\n",
    "features_train = extract_hog_features(X_train)\n",
    "features_test = extract_hog_features(X_test)\n"
   ]
  },
  {
   "cell_type": "markdown",
   "metadata": {},
   "source": [
    "**SVM**"
   ]
  },
  {
   "cell_type": "code",
   "execution_count": 5,
   "metadata": {},
   "outputs": [
    {
     "name": "stdout",
     "output_type": "stream",
     "text": [
      "Person Classification Accuracy: 0.8768939393939394\n"
     ]
    }
   ],
   "source": [
    "from sklearn.svm import SVC\n",
    "from sklearn.metrics import accuracy_score\n",
    "\n",
    "# Train the SVM model for person classification\n",
    "svm_person_model = SVC(kernel='linear')\n",
    "svm_person_model.fit(features_train, person_train)\n",
    "\n",
    "# Evaluate the model\n",
    "person_pred = svm_person_model.predict(features_test)\n",
    "person_accuracy = accuracy_score(person_test, person_pred)\n",
    "print(f'Person Classification Accuracy: {person_accuracy}')\n"
   ]
  },
  {
   "cell_type": "code",
   "execution_count": 7,
   "metadata": {},
   "outputs": [
    {
     "name": "stdout",
     "output_type": "stream",
     "text": [
      "Forgery Detection Accuracy: 0.990530303030303\n"
     ]
    }
   ],
   "source": [
    "# Train the SVM model for forgery detection\n",
    "svm_forgery_model = SVC(kernel='linear')\n",
    "svm_forgery_model.fit(features_train, y_train)\n",
    "\n",
    "# Evaluate the model\n",
    "forgery_pred = svm_forgery_model.predict(features_test)\n",
    "forgery_accuracy = accuracy_score(y_test, forgery_pred)\n",
    "print(f'Forgery Detection Accuracy: {forgery_accuracy}')\n"
   ]
  },
  {
   "cell_type": "code",
   "execution_count": 8,
   "metadata": {},
   "outputs": [
    {
     "name": "stdout",
     "output_type": "stream",
     "text": [
      "This signature belongs to person ID: 5\n",
      "It's a Genuine Signature\n"
     ]
    }
   ],
   "source": [
    "# Load and preprocess the test image\n",
    "test_image_path = './data/full_org/original_5_4.png'\n",
    "test_image = cv2.imread(test_image_path, cv2.IMREAD_GRAYSCALE)\n",
    "test_image = cv2.resize(test_image, (128, 128))\n",
    "test_image = test_image / 255.0\n",
    "\n",
    "# Extract HOG features from the test image\n",
    "test_feature = hog(test_image, orientations=8, pixels_per_cell=(16, 16), cells_per_block=(1, 1))\n",
    "test_feature = np.array(test_feature).reshape(1, -1)\n",
    "\n",
    "# Predict the person\n",
    "predicted_person = svm_person_model.predict(test_feature)\n",
    "print(f'This signature belongs to person ID: {predicted_person[0]+1}')\n",
    "\n",
    "# Predict if the signature is genuine or forged\n",
    "predicted_forgery = svm_forgery_model.predict(test_feature)\n",
    "if predicted_forgery == 1:\n",
    "    print(\"It's a Genuine Signature\")\n",
    "else:\n",
    "    print(\"It's a Forged Signature\")\n"
   ]
  },
  {
   "cell_type": "markdown",
   "metadata": {},
   "source": [
    "**Random Forest Classifier**"
   ]
  },
  {
   "cell_type": "code",
   "execution_count": 9,
   "metadata": {},
   "outputs": [
    {
     "name": "stdout",
     "output_type": "stream",
     "text": [
      "Person Classification Accuracy with Random Forest: 0.7537878787878788\n"
     ]
    }
   ],
   "source": [
    "from sklearn.ensemble import RandomForestClassifier\n",
    "from sklearn.metrics import accuracy_score\n",
    "\n",
    "# Train the Random Forest model for person classification\n",
    "rf_person_model = RandomForestClassifier(n_estimators=100, random_state=42)\n",
    "rf_person_model.fit(features_train, person_train)\n",
    "\n",
    "# Evaluate the model\n",
    "person_pred = rf_person_model.predict(features_test)\n",
    "person_accuracy = accuracy_score(person_test, person_pred)\n",
    "print(f'Person Classification Accuracy with Random Forest: {person_accuracy}')"
   ]
  },
  {
   "cell_type": "code",
   "execution_count": 10,
   "metadata": {},
   "outputs": [
    {
     "name": "stdout",
     "output_type": "stream",
     "text": [
      "Forgery Detection Accuracy (Random Forest): 0.9734848484848485\n"
     ]
    }
   ],
   "source": [
    "# Train the Random Forest model for forgery detection\n",
    "rf_forgery_model = RandomForestClassifier(n_estimators=100, random_state=42)\n",
    "rf_forgery_model.fit(features_train, y_train)\n",
    "\n",
    "# Evaluate the model\n",
    "forgery_pred_rf = rf_forgery_model.predict(features_test)\n",
    "forgery_accuracy_rf = accuracy_score(y_test, forgery_pred_rf)\n",
    "print(f'Forgery Detection Accuracy (Random Forest): {forgery_accuracy_rf}')"
   ]
  },
  {
   "cell_type": "markdown",
   "metadata": {},
   "source": [
    "**XGBoost**"
   ]
  },
  {
   "cell_type": "code",
   "execution_count": 11,
   "metadata": {},
   "outputs": [
    {
     "name": "stdout",
     "output_type": "stream",
     "text": [
      "Person Classification Accuracy (XGBoost): 0.7083333333333334\n"
     ]
    }
   ],
   "source": [
    "import xgboost as xgb\n",
    "\n",
    "# Train the XGBoost model for person classification\n",
    "xgb_person_model = xgb.XGBClassifier(n_estimators=100, random_state=42)\n",
    "xgb_person_model.fit(features_train, person_train)\n",
    "\n",
    "# Evaluate the model\n",
    "person_pred_xgb = xgb_person_model.predict(features_test)\n",
    "person_accuracy_xgb = accuracy_score(person_test, person_pred_xgb)\n",
    "print(f'Person Classification Accuracy (XGBoost): {person_accuracy_xgb}')\n"
   ]
  },
  {
   "cell_type": "code",
   "execution_count": 12,
   "metadata": {},
   "outputs": [
    {
     "name": "stdout",
     "output_type": "stream",
     "text": [
      "Forgery Detection Accuracy (XGBoost): 0.9810606060606061\n"
     ]
    }
   ],
   "source": [
    "# Train the XGBoost model for forgery detection\n",
    "xgb_forgery_model = xgb.XGBClassifier(n_estimators=100, random_state=42)\n",
    "xgb_forgery_model.fit(features_train, y_train)\n",
    "\n",
    "# Evaluate the model\n",
    "forgery_pred_xgb = xgb_forgery_model.predict(features_test)\n",
    "forgery_accuracy_xgb = accuracy_score(y_test, forgery_pred_xgb)\n",
    "print(f'Forgery Detection Accuracy (XGBoost): {forgery_accuracy_xgb}')\n"
   ]
  },
  {
   "cell_type": "code",
   "execution_count": 13,
   "metadata": {},
   "outputs": [
    {
     "data": {
      "text/plain": [
       "['xgbf.joblib']"
      ]
     },
     "execution_count": 13,
     "metadata": {},
     "output_type": "execute_result"
    }
   ],
   "source": [
    "import joblib\n",
    "\n",
    "joblib.dump(rf_person_model,'rfp.joblib')\n",
    "joblib.dump(rf_forgery_model,'rff.joblib')\n",
    "joblib.dump(svm_person_model,'svmp.joblib')\n",
    "joblib.dump(svm_forgery_model,'svmf.joblib')\n",
    "joblib.dump(xgb_person_model,'xgbp.joblib')\n",
    "joblib.dump(xgb_forgery_model,'xgbf.joblib')"
   ]
  }
 ],
 "metadata": {
  "kernelspec": {
   "display_name": "SV_env",
   "language": "python",
   "name": "python3"
  },
  "language_info": {
   "codemirror_mode": {
    "name": "ipython",
    "version": 3
   },
   "file_extension": ".py",
   "mimetype": "text/x-python",
   "name": "python",
   "nbconvert_exporter": "python",
   "pygments_lexer": "ipython3",
   "version": "3.12.4"
  }
 },
 "nbformat": 4,
 "nbformat_minor": 2
}
